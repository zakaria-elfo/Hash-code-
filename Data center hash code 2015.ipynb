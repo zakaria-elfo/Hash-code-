{
 "cells": [
  {
   "cell_type": "markdown",
   "id": "ff803934",
   "metadata": {},
   "source": [
    "# Data center hash code 2015"
   ]
  },
  {
   "cell_type": "code",
   "execution_count": 1,
   "id": "2a895026",
   "metadata": {},
   "outputs": [],
   "source": [
    "# importing dependencies\n",
    "import pandas as pd\n",
    "import os\n",
    "import numpy as np\n",
    "import matplotlib.pyplot as plt"
   ]
  },
  {
   "cell_type": "markdown",
   "id": "a50ff2ae",
   "metadata": {},
   "source": [
    "# Reading data "
   ]
  },
  {
   "cell_type": "code",
   "execution_count": 2,
   "id": "16ccbb3d",
   "metadata": {},
   "outputs": [
    {
     "data": {
      "text/html": [
       "<div>\n",
       "<style scoped>\n",
       "    .dataframe tbody tr th:only-of-type {\n",
       "        vertical-align: middle;\n",
       "    }\n",
       "\n",
       "    .dataframe tbody tr th {\n",
       "        vertical-align: top;\n",
       "    }\n",
       "\n",
       "    .dataframe thead th {\n",
       "        text-align: right;\n",
       "    }\n",
       "</style>\n",
       "<table border=\"1\" class=\"dataframe\">\n",
       "  <thead>\n",
       "    <tr style=\"text-align: right;\">\n",
       "      <th></th>\n",
       "      <th>16</th>\n",
       "      <th>100</th>\n",
       "      <th>80</th>\n",
       "      <th>45</th>\n",
       "      <th>625</th>\n",
       "    </tr>\n",
       "  </thead>\n",
       "  <tbody>\n",
       "    <tr>\n",
       "      <th>0</th>\n",
       "      <td>10</td>\n",
       "      <td>23</td>\n",
       "      <td>NaN</td>\n",
       "      <td>NaN</td>\n",
       "      <td>NaN</td>\n",
       "    </tr>\n",
       "    <tr>\n",
       "      <th>1</th>\n",
       "      <td>0</td>\n",
       "      <td>40</td>\n",
       "      <td>NaN</td>\n",
       "      <td>NaN</td>\n",
       "      <td>NaN</td>\n",
       "    </tr>\n",
       "    <tr>\n",
       "      <th>2</th>\n",
       "      <td>4</td>\n",
       "      <td>40</td>\n",
       "      <td>NaN</td>\n",
       "      <td>NaN</td>\n",
       "      <td>NaN</td>\n",
       "    </tr>\n",
       "    <tr>\n",
       "      <th>3</th>\n",
       "      <td>3</td>\n",
       "      <td>57</td>\n",
       "      <td>NaN</td>\n",
       "      <td>NaN</td>\n",
       "      <td>NaN</td>\n",
       "    </tr>\n",
       "    <tr>\n",
       "      <th>4</th>\n",
       "      <td>11</td>\n",
       "      <td>78</td>\n",
       "      <td>NaN</td>\n",
       "      <td>NaN</td>\n",
       "      <td>NaN</td>\n",
       "    </tr>\n",
       "  </tbody>\n",
       "</table>\n",
       "</div>"
      ],
      "text/plain": [
       "   16  100  80  45  625\n",
       "0  10   23 NaN NaN  NaN\n",
       "1   0   40 NaN NaN  NaN\n",
       "2   4   40 NaN NaN  NaN\n",
       "3   3   57 NaN NaN  NaN\n",
       "4  11   78 NaN NaN  NaN"
      ]
     },
     "execution_count": 2,
     "metadata": {},
     "output_type": "execute_result"
    }
   ],
   "source": [
    "os.chdir('D:/Downloads/')   # put the path to the data \n",
    "data = pd.read_csv('dc.in', sep = ' ' ,index_col=False)\n",
    "data.head()"
   ]
  },
  {
   "cell_type": "code",
   "execution_count": 3,
   "id": "7188f990",
   "metadata": {},
   "outputs": [],
   "source": [
    "# getting important parameters \n",
    "params = list(data.columns)  # list of parameters\n",
    "\n",
    "\n",
    "rows_number = int(params[0])\n",
    "spots_number = int(params[1])  # number of slots in each row \n",
    "number_unavailable_spots = int(params[2])  # this is a pair containing informations about the unavailale spot as a pair of 2 numbers ri and si where ri is the row number and si is the spot position within the row \n",
    "number_pools = int(params[3])\n",
    "number_servers = int(params[4])  # a server is a pair of (zi,ci) where zi is the size of the server and ci is the capacity of the server\n"
   ]
  },
  {
   "cell_type": "markdown",
   "id": "69c11c66",
   "metadata": {},
   "source": [
    "# Let's do some analysis to have an overview of the problem"
   ]
  },
  {
   "cell_type": "code",
   "execution_count": 4,
   "id": "34f53036",
   "metadata": {},
   "outputs": [
    {
     "data": {
      "image/png": "[encoded data removed]",
      "text/plain": [
       "<Figure size 432x288 with 1 Axes>"
      ]
     },
     "metadata": {
      "needs_background": "light"
     },
     "output_type": "display_data"
    }
   ],
   "source": [
    "# let's see the distribution of the unavailable spots over rows \n",
    "t={}\n",
    "m=sorted(data['16'].values[:number_unavailable_spots])\n",
    "for i in np.unique(m):\n",
    "    t[i] = m.count(i)\n",
    "    \n",
    "plt.bar(list(t.keys()), list(t.values()))\n",
    "plt.title('unavailable spots on each row')\n",
    "plt.xlabel('rows')\n",
    "plt.ylabel('number of unavailable spots')\n",
    "plt.show()"
   ]
  },
  {
   "cell_type": "markdown",
   "id": "38c47303",
   "metadata": {},
   "source": [
    "* there is in average 4 unavailable spots in each row"
   ]
  },
  {
   "cell_type": "code",
   "execution_count": 5,
   "id": "b750b65e",
   "metadata": {},
   "outputs": [
    {
     "data": {
      "image/png": "[encoded data removed]",
      "text/plain": [
       "<Figure size 432x288 with 1 Axes>"
      ]
     },
     "metadata": {
      "needs_background": "light"
     },
     "output_type": "display_data"
    }
   ],
   "source": [
    "#let's see if there is a correlation between number of required spots and capacity of a giving server \n",
    "\n",
    "serv_dict = {}\n",
    "tt = data['16'].values[number_unavailable_spots:]\n",
    "mm = data['100'].values[number_unavailable_spots:]\n",
    "\n",
    "plt.scatter(tt,mm)\n",
    "plt.xlabel('spots needed')\n",
    "plt.ylabel(\"capacity\")\n",
    "plt.title('capacity as a function of spots')\n",
    "plt.show()"
   ]
  },
  {
   "cell_type": "markdown",
   "id": "e9993808",
   "metadata": {},
   "source": [
    "* **Conclusion:** there is no correlation between the number of spots needed and the capacity of the servers: i.e a server may require 5 spots and provide less capacity than another one that only require 3 spots. So we should sort server on their real capacity = $\\frac{capacity}{spots needed}$"
   ]
  },
  {
   "cell_type": "markdown",
   "id": "a08b205c",
   "metadata": {},
   "source": [
    "# Now let's find a suitable representation of the data"
   ]
  },
  {
   "cell_type": "markdown",
   "id": "314db6e3",
   "metadata": {},
   "source": [
    "we will represent our data as follows:\n",
    "* **servers:** a dictionnry with as keys the index in the original matrix of the server and in values the pair of the size and capacity defining each server. \n",
    "* **rows:** a 100-d vector with the available spots on it, and another matrix **visited_rows** to help us to know if a spot has been visited by our algorithm or not yet.\n",
    "* **pools:** a dictionnary of pools and a list of the index of servers associated to each pool\n",
    "* **result_server**: to save the results in the required format.\n"
   ]
  },
  {
   "cell_type": "code",
   "execution_count": 6,
   "id": "52fab753",
   "metadata": {},
   "outputs": [],
   "source": [
    "data = data.values\n",
    "data = data[:,:2].astype(int)\n",
    "\n",
    "# About servers \n",
    "\n",
    "# a dictionnary that associates to each server the row and the spot where it will be allocated\n",
    "result_server = {}  \n",
    "#  a dictionnary that represent a server by its index and map it to its spots needed and its capacity \n",
    "servers = {}  \n",
    "for i in range(number_unavailable_spots, len(data)):\n",
    "    servers[i] = data[i]\n",
    "    result_server[i] = None\n",
    " \n",
    " \n",
    "# row matrix : one if the spot is unavailable and 0 if not\n",
    "\n",
    "rows = np.zeros((rows_number , spots_number))\n",
    "for i in range(number_unavailable_spots):\n",
    "    rows[data[i][0]][data[i][1]] = 1\n",
    "    \n",
    "    \n",
    "\n",
    "\n",
    "\n",
    "# indicats if a spot has been visited or not yet \n",
    "\n",
    "visited_rows = np.zeros((rows_number , spots_number))  # 0 if the spot has not been visited yet and 1 if not and we will extend it so the unavailable spots will be represented by -1.\n",
    "for i in range(number_unavailable_spots):\n",
    "    visited_rows[data[i][0]][data[i][1]] = -1\n",
    "\n",
    "# pools: a dictionnary: the index of the pool and the index of servers on that pool\n",
    "pools = {}\n",
    "for i in range(number_pools):\n",
    "    pools[i]  = []"
   ]
  },
  {
   "cell_type": "markdown",
   "id": "86b1576f",
   "metadata": {},
   "source": [
    "# Initialization:"
   ]
  },
  {
   "cell_type": "markdown",
   "id": "87d214ec",
   "metadata": {},
   "source": [
    "### Useful functions"
   ]
  },
  {
   "cell_type": "code",
   "execution_count": 7,
   "id": "699f3330",
   "metadata": {},
   "outputs": [
    {
     "data": {
      "text/plain": [
       "[2]"
      ]
     },
     "execution_count": 7,
     "metadata": {},
     "output_type": "execute_result"
    }
   ],
   "source": [
    "x = [1,2,3]\n",
    "x[1:2]"
   ]
  },
  {
   "cell_type": "code",
   "execution_count": 8,
   "id": "7641a370",
   "metadata": {},
   "outputs": [
    {
     "data": {
      "text/plain": [
       "array([ 0.,  0.,  0.,  0.,  0.,  0.,  0.,  0.,  0.,  0., -1.,  0.,  0.,\n",
       "        0.,  0.,  0.,  0.,  0.,  0.,  0.,  0.,  0.,  0.,  0.,  0.,  0.,\n",
       "        0.,  0.,  0.,  0.,  0.,  0.,  0.,  0.,  0.,  0.,  0.,  0.,  0.,\n",
       "        0., -1.,  0., -1.,  0.,  0.,  0.,  0., -1.,  0.,  0.,  0., -1.,\n",
       "        0.,  0.,  0.,  0.,  0.,  0.,  0.,  0.,  0.,  0.,  0.,  0.,  0.,\n",
       "        0.,  0.,  0.,  0.,  0.,  0.,  0.,  0., -1.,  0.,  0.,  0.,  0.,\n",
       "        0.,  0.,  0.,  0.,  0.,  0.,  0.,  0.,  0.,  0.,  0.,  0.,  0.,\n",
       "        0.,  0.,  0.,  0.,  0.,  0.,  0.,  0.,  0.])"
      ]
     },
     "execution_count": 8,
     "metadata": {},
     "output_type": "execute_result"
    }
   ],
   "source": [
    "visited_rows[0]"
   ]
  },
  {
   "cell_type": "code",
   "execution_count": 9,
   "id": "9ea99938",
   "metadata": {},
   "outputs": [
    {
     "name": "stderr",
     "output_type": "stream",
     "text": [
      "C:\\Users\\zakar\\anaconda3\\envs\\deep_learning_iot\\lib\\site-packages\\numpy\\lib\\function_base.py:804: VisibleDeprecationWarning: Creating an ndarray from ragged nested sequences (which is a list-or-tuple of lists-or-tuples-or ndarrays with different lengths or shapes) is deprecated. If you meant to do this, you must specify 'dtype=object' when creating the ndarray.\n",
      "  return array(a, order=order, subok=subok, copy=True)\n"
     ]
    }
   ],
   "source": [
    "# a function to find the index of a server on the list servers_real_capacity_sorted  (see bellow to understand )\n",
    "def find_server_index(list_,server):\n",
    "    list_ = np.array(list_)\n",
    "    xx = list(list_[:,0])\n",
    "    return xx.index(server[0])\n",
    "\n",
    "def find_server_index1 (list_, server): # a server here is refered to just by its index\n",
    "    list_ = np.array(list_)\n",
    "    xx = list(list_[:,0])\n",
    "    return xx.index(server)\n",
    "\n",
    "def score(server):   # to compute the real capacity of a server \n",
    "    # server here is defined by it's size and capcity\n",
    "    return server[1]/server[0]\n",
    "\n",
    "\n",
    "# sorting the servers by their real capacity \n",
    "servers_real_capacity_sorted = list(reversed(sorted(list(servers.items()) , key = lambda x:score(x[1]))))\n",
    "servers_real_capacity_sorted_ref = np.copy(servers_real_capacity_sorted) # we keep a copy of the original list \n",
    "\n",
    "#we define a function to put a server on a row \n",
    "def put_server_on_row(server, row_index, process =False):\n",
    "    global servers_real_capacity_sorted\n",
    "    # I add process parameter here so that, depending on the goal if it is just to know the available spot where to put the server or to put it and update all the parameters\n",
    "    nonvisited_spot = list(visited_rows[row_index]).index(0)  # find the first non visited spot \n",
    "    # so we will start our research from that spot \n",
    "    available_spot = 0 # we will start looking for the available spot\n",
    "    for i in range(nonvisited_spot, len(rows[row_index])):\n",
    "        if rows[row_index][i] == 0: # if it is available \n",
    "            available_spot = i\n",
    "            break\n",
    "    # At this stage i should represent an available spot ######## I should think about if no spot was found\n",
    "    # let's try to fill that available spot \n",
    "    for j in range(server[1][0]):  #server here is defined as a list (index, [spots needed, capacity]) \n",
    "        if available_spot+j == len(rows[0]):\n",
    "            return False\n",
    "        if rows[row_index][available_spot+j] == 1: # to be able to put it we should have all the spots needed to be available\n",
    "            return False #not able to put it from that spot \n",
    "    if process == True:    \n",
    "        rows[row_index][available_spot:available_spot + server[1][0]] = 1 # update row matrix\n",
    "        visited_rows[row_index][available_spot : available_spot + server[1][0]] = 1  # update visited matrix \n",
    "        if available_spot + server[1][0] < len(visited_rows[0]):\n",
    "            if visited_rows[row_index][available_spot + server[1][0]] == -1: # this will help me for the next steps, it check if the next spot is unavailable and mark it to 1 as a visited spot\n",
    "                visited_rows[row_index][available_spot + server[1][0]] = 1\n",
    "        servers_real_capacity_sorted = np.delete(servers_real_capacity_sorted, find_server_index(servers_real_capacity_sorted ,server), 0)   # update servers\n",
    "\n",
    "    return available_spot # this is the spot index where we can put the server "
   ]
  },
  {
   "cell_type": "markdown",
   "id": "139a992b",
   "metadata": {},
   "source": [
    "**Let's take a break from coding and try to understand the idea of our optimization process**\n",
    "* **useful information:**\n",
    "    *We will go through each line and try to fill it with servers. The basic idea is that we should ensure diversity so that when a line goes down the effect will be distributed to the maximum possible number of the pools and not only to one pool.\n",
    "    *Each time a server will be implemented to a given row and associated to a given pool and then we move on to the next pool and next row. When we will run out of rows we will invert the order so that not only the first rows will always have the servers with the highest capacity.\n",
    "* **Initialization steps:**\n",
    "    * **The first initialization step:** this first step is as described above.But at this stage all the pools still have 0 garanted capacity.\n",
    "    * **The second initialization step:** we should be more careful for this step to avoid that a pool contains two servers in the same row. And to assure that not only the first rows will always have the \"best\" servers in terms of real capacity we will start this time from the end (e.g the 16-th row)\n",
    "      \n"
   ]
  },
  {
   "cell_type": "code",
   "execution_count": 10,
   "id": "45b7c3c5",
   "metadata": {},
   "outputs": [],
   "source": [
    "# put_server_on_row(servers_real_capacity_sorted[server_index], row_index)"
   ]
  },
  {
   "cell_type": "code",
   "execution_count": 11,
   "id": "e1e7a2e8",
   "metadata": {},
   "outputs": [],
   "source": [
    "# str('False')"
   ]
  },
  {
   "cell_type": "code",
   "execution_count": 12,
   "id": "12decf34",
   "metadata": {},
   "outputs": [],
   "source": [
    "# server_index = 0 \n",
    "# row_index = 0\n",
    "# put_server_on_row(servers_real_capacity_sorted[server_index], row_index) == False"
   ]
  },
  {
   "cell_type": "code",
   "execution_count": 13,
   "id": "3444e807",
   "metadata": {},
   "outputs": [],
   "source": [
    "# a function that do the process of putting a server into a row\n",
    "def process(row_index, update = False):\n",
    "    # for simplicity of the algorithme I will start from the first row\n",
    "    if np.all (visited_rows[row_index]) ==1: # if all the spots have been visited then we should stop processing this row\n",
    "        return False  \n",
    "    server_index = 0\n",
    "    while (server_index < len(servers_real_capacity_sorted) and str(put_server_on_row(servers_real_capacity_sorted[server_index], row_index))== 'False' ) :  # str is because for the algorithme 0 is the same as False \n",
    "        # since we still have servers available and we still not be able to put them in a row we will try another server\n",
    "        server_index +=1 # we will look for another index that might be suitable\n",
    "        \n",
    "    \n",
    "    # so at the end of the loop we will eighter have the server server_index to put into the line rows[i] or we won't\n",
    "    if server_index == len(servers_real_capacity_sorted): # no server is suitable for this row then we will see if we can put it after the unavailable spot \n",
    "        \n",
    "        # try to find an available spot \n",
    "        try:\n",
    "            nonvisited_spot = list(visited_rows[row_index]).index(0)  # find the first non visited spot \n",
    "        except:\n",
    "            return False  # no available spot\n",
    "        \n",
    "        # try to find an unavailable spot \n",
    "        try:\n",
    "            unavailable_spot = list(visited_rows[row_index]).index(-1) # find the first unavailable spot not yet visited\n",
    "        except:\n",
    "            visited_rows[row_index][nonvisited_spot:-1] = 1\n",
    "            return False # because at this stage we're donne with all the spots on the row\n",
    "        \n",
    "        assert (unavailable_spot - nonvisited_spot)<5 # assert that the differnce between these two spots is bellow 5 otherwise we made some errors because the mximum spot\n",
    "        visited_rows[row_index][nonvisited_spot:unavailable_spot+1] = 1 # mark these spots unavailable and move to next available spot after that one\n",
    "        # let's retry again \n",
    "        process(row_index)\n",
    "    else: # else we can then put it in the right place\n",
    "        # server_index here is the index of the server in servers_real_capacity_sorted\n",
    "        server_index_real = servers_real_capacity_sorted[server_index][0]\n",
    "        spot_index = put_server_on_row(servers_real_capacity_sorted[server_index], row_index, update)\n",
    "        # rows , visited_rows and servers_real_capacity_sorted are already updated i just need to update the result\n",
    "        return spot_index, server_index_real  # return the index of the spot and the index of the server "
   ]
  },
  {
   "cell_type": "code",
   "execution_count": 14,
   "id": "9844a770",
   "metadata": {},
   "outputs": [
    {
     "name": "stderr",
     "output_type": "stream",
     "text": [
      "C:\\Users\\zakar\\anaconda3\\envs\\deep_learning_iot\\lib\\site-packages\\ipykernel_launcher.py:3: VisibleDeprecationWarning: Creating an ndarray from ragged nested sequences (which is a list-or-tuple of lists-or-tuples-or ndarrays with different lengths or shapes) is deprecated. If you meant to do this, you must specify 'dtype=object' when creating the ndarray.\n",
      "  This is separate from the ipykernel package so we can avoid doing imports until\n",
      "C:\\Users\\zakar\\anaconda3\\envs\\deep_learning_iot\\lib\\site-packages\\numpy\\lib\\function_base.py:4454: VisibleDeprecationWarning: Creating an ndarray from ragged nested sequences (which is a list-or-tuple of lists-or-tuples-or ndarrays with different lengths or shapes) is deprecated. If you meant to do this, you must specify 'dtype=object' when creating the ndarray.\n",
      "  arr = asarray(arr)\n"
     ]
    }
   ],
   "source": [
    "# First step \n",
    "#intialization:\n",
    "row_index=0  # rows \n",
    "pool_index= 0 # pools\n",
    "server_index = 0 #servers\n",
    "reverse = False # to tell the sense of the loop for rows if we're going from up to down or from down to up\n",
    "for pool_index in range(number_pools):  # the initialization will be for all the pools and just once.\n",
    "    # for simplicity of the algorithm I will start from the first row\n",
    "    spot_index,server_result = process(row_index, True)\n",
    "    \n",
    "    # update the pools and the results \n",
    "    \n",
    "    \n",
    "    result_server[server_result] = (row_index , spot_index, pool_index) # update result dictionnary\n",
    "    pools[pool_index].append(server_result)  # update the pools\n",
    "    if reverse == False:\n",
    "        row_index +=1\n",
    "    elif reverse == True:\n",
    "        row_index -=1\n",
    "    if row_index == 0:\n",
    "        row_index = len(rows)-1\n",
    "        reverse = True\n",
    "    elif row_index == len(rows):\n",
    "        row_index = 0\n",
    "        reverse = False"
   ]
  },
  {
   "cell_type": "code",
   "execution_count": 15,
   "id": "e8af6204",
   "metadata": {
    "scrolled": true
   },
   "outputs": [],
   "source": [
    "# second step \n",
    "# i should added a function to ckeck if a row already contain a server that belongs to a pool already in it or not \n",
    "def exist(row_index, pool_index):\n",
    "    server_index = pools[pool_index][0]\n",
    "    server_row = result_server[server_index][0]\n",
    "    if row_index == server_row:\n",
    "        return True  # true if the first row is on that row \n",
    "    else:\n",
    "        return False\n",
    "    \n",
    "    \n",
    "row_index=len(rows)-1  # rows \n",
    "pool_index= 0 # pools\n",
    "server_index = 0 #servers\n",
    "reverse = True # to tell the sense of the loop for rows if we're going from up to down or from down to up\n",
    "for pool_index in range(number_pools):  # the initialization will be for all the pools and just once.\n",
    "    # for simplicity of the algorithm I will start from the first row\n",
    "    \n",
    "    if exist(row_index, pool_index):\n",
    "        if reverse == False:\n",
    "            row_index +=1\n",
    "        elif reverse == True:\n",
    "            row_index -=1\n",
    "    spot_index,server_result = process(row_index, True)\n",
    "    \n",
    "    # update the pools and the results\n",
    "    result_server[server_result] = (row_index , spot_index, pool_index) # update result dictionnary\n",
    "    pools[pool_index].append(server_result)  # update the pools\n",
    "    if reverse == False:\n",
    "        row_index +=1\n",
    "    elif reverse == True:\n",
    "        row_index -=1\n",
    "    if row_index == 0:\n",
    "        row_index = len(rows)-1\n",
    "        reverse = True\n",
    "    elif row_index == len(rows):\n",
    "        row_index = 0\n",
    "        reverse = False"
   ]
  },
  {
   "cell_type": "code",
   "execution_count": 16,
   "id": "2b24dfbe",
   "metadata": {},
   "outputs": [],
   "source": [
    "# let's visualize the data "
   ]
  },
  {
   "cell_type": "markdown",
   "id": "745a83b4",
   "metadata": {},
   "source": [
    "* **So our algorithm is working let's now continue the work and optimize it** "
   ]
  },
  {
   "cell_type": "markdown",
   "id": "a3afbc15",
   "metadata": {},
   "source": [
    "# Optimization:"
   ]
  },
  {
   "cell_type": "markdown",
   "id": "badc3d8e",
   "metadata": {},
   "source": [
    "### At this stage we already have all the pools perfectly initialized we still need to define some functions to help us do the optimization process \n",
    "* Define a function or a data structure that will help us to **calculate the garanteed capacity** of a giving pool and sort them by capacity to determine the weakest pool in terms of garanteed capacity and then work on that pool.\n",
    "* **Processing the weakest pool:** this is the important point where we are going to optimize the weakest pool, for that we are going to look for the weakest row and try to insert a new server and then check if it still the weakest row in the weakest pool, if yes we will repeat the process on the same pool otherwise we are going to look for another pool."
   ]
  },
  {
   "cell_type": "code",
   "execution_count": 17,
   "id": "be1e5c21",
   "metadata": {},
   "outputs": [],
   "source": [
    "# optimization:\n",
    "def garanteed_capacity_map(pool_index):\n",
    "    # this is a function to calculate the garanteed capacity per row of a giving pool\n",
    "    # pool index is the index of the giving pool\n",
    "    servers_index = pools[pool_index]\n",
    "    # we need the capacity and the ligne where this capacity is located \n",
    "    capacity_per_row = {}\n",
    "    for i in range(len(rows)):\n",
    "        capacity_per_row[i] = 0\n",
    "    for server_index in servers_index:\n",
    "        #we will forst get the row_index of each server\n",
    "        server_row = result_server[server_index][0] # reminder: an instance of result_server is a tuple (row_index , spot_index, pool_index)\n",
    "        # after that we look for the capacity of the server\n",
    "        \n",
    "        server_capacity = servers_real_capacity_sorted_ref[find_server_index1(servers_real_capacity_sorted_ref,server_index)][1][1] # reminder: a server is defined as a tuple: (index, [spots needed, capacity])\n",
    "        capacity_per_row [server_row] += server_capacity\n",
    "    return capacity_per_row\n",
    "\n",
    "# a function to compute the garanteed capacity of a pool\n",
    "\n",
    "def garanteed_capacity (pool_index):\n",
    "    capacity_per_row = garanteed_capacity_map (pool_index)\n",
    "    return sum(list(capacity_per_row.values())) - max(list(capacity_per_row.values())) # the definition of the garanteed capacity of a giving row\n",
    "\n",
    "# a function to find the weakest pool\n",
    "def weakest_pool_finder():\n",
    "    # pool index and it's capacity\n",
    "    capacities_per_pool = [(pool_index, garanteed_capacity (pool_index)) for pool_index in range(number_pools)] \n",
    "    # find the min and return it's index\n",
    "    # we sort it regarding it's capacity and then we look for the weakest pool\n",
    "    tt = [x[1] for x in capacities_per_pool] # list to find the index of the weakest pool by its capacity\n",
    "    index_ = np.argmin(tt)\n",
    "    return capacities_per_pool[index_][0] # the index of the weakest pool \n",
    "    "
   ]
  },
  {
   "cell_type": "code",
   "execution_count": 18,
   "id": "afeea060",
   "metadata": {},
   "outputs": [],
   "source": [
    "# Now let's just optimize\n",
    "\n",
    "# process(row_index, update = False)\n",
    "\n",
    "while np.any(visited_rows != 1):\n",
    "    \n",
    "    pool_index = weakest_pool_finder()   #find the weakest pool\n",
    "    #print(garanteed_capacity(pool_index))\n",
    "    pool_map = garanteed_capacity_map(pool_index) #a dictionnary map that will help us to find the weakest row of that pool\n",
    "    pool_map = sorted(list(pool_map.items()) , key = lambda x:x[1])  # sorting the map according to the capacity per row\n",
    "    weakest_row_index = 0\n",
    "    while weakest_row_index < len(pool_map):\n",
    "        processed = process(pool_map[weakest_row_index][0])\n",
    "        if processed == False:   # we move to the next row  \n",
    "            weakest_row_index +=1\n",
    "        else:\n",
    "            break\n",
    "    #print(weakest_row_index)\n",
    "    if weakest_row_index == len(pool_map): # which mean that the optimization is done \n",
    "        break\n",
    "    #if weakest_row_index \n",
    "    else:        \n",
    "            #else:  # we should update ### but first let's think about the scenario when adding a server will just make it worst (nvm)\n",
    "        \n",
    "        spot_index, server_index = process(pool_map[weakest_row_index][0])\n",
    "        # let's try to make updates on the pool and see its performance\n",
    "    #             new_capacity_map = np.copy(aranteed_capacity_map(pool_index))\n",
    "    #             new_capacity_map[weakest_row] += servers[server_index][]\n",
    "    #             new_pool_capacity = sum(list(new_capacity_map.values())) - max(list(new_capacity_map.values()))\n",
    "    #             old_pool_capacity = garanteed_capacity (pool_index)\n",
    "    #             if new_pool_capacity > old_pool_capacity: # if this is true then we're going to put that server on that pool otherwise we're not\n",
    "        spot_index, server_index = process(pool_map[weakest_row_index][0], True)\n",
    "            # one final step is to associate the server to the pool\n",
    "        pools[pool_index].append(server_index)\n",
    "            # updating results \n",
    "        result_server[server_index] = (pool_map[weakest_row_index][0] , spot_index, pool_index)\n",
    "        # I changed the algorithme so that it will process anyways  \n",
    "        #print(visited_rows[weakest_row_index], 'finished')\n",
    "        "
   ]
  },
  {
   "cell_type": "markdown",
   "id": "d208979c",
   "metadata": {},
   "source": [
    "# Let's see our score:"
   ]
  },
  {
   "cell_type": "code",
   "execution_count": 19,
   "id": "5ae4fbf1",
   "metadata": {},
   "outputs": [
    {
     "name": "stdout",
     "output_type": "stream",
     "text": [
      "The score of this strategy is:  378\n"
     ]
    }
   ],
   "source": [
    "print('The score of this strategy is: ', garanteed_capacity(weakest_pool_finder()) )"
   ]
  }
 ],
 "metadata": {
  "kernelspec": {
   "display_name": "Python 3 (ipykernel)",
   "language": "python",
   "name": "python3"
  },
  "language_info": {
   "codemirror_mode": {
    "name": "ipython",
    "version": 3
   },
   "file_extension": ".py",
   "mimetype": "text/x-python",
   "name": "python",
   "nbconvert_exporter": "python",
   "pygments_lexer": "ipython3",
   "version": "3.7.11"
  }
 },
 "nbformat": 4,
 "nbformat_minor": 5
}
